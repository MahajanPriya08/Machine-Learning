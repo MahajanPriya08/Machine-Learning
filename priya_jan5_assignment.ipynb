{
 "cells": [
  {
   "cell_type": "code",
   "execution_count": 1,
   "id": "63e3dae7-19f7-4cab-a861-61d1f43fdf86",
   "metadata": {},
   "outputs": [],
   "source": [
    "# 5th jan assignment\n",
    "# WAP to accept 5 unique integers from user,store them in list. display these integers and display their sum"
   ]
  },
  {
   "cell_type": "code",
   "execution_count": 2,
   "id": "68f711f9-8d5b-4810-971b-a5488ee81186",
   "metadata": {},
   "outputs": [
    {
     "name": "stdin",
     "output_type": "stream",
     "text": [
      "Enter Integers:  12345\n"
     ]
    },
    {
     "name": "stdout",
     "output_type": "stream",
     "text": [
      "Sum of integers 15\n",
      "[1, 2, 3, 4, 5]\n"
     ]
    }
   ],
   "source": [
    "num= input(\"Enter Integers: \")\n",
    "num_list=[]\n",
    "sum=0;\n",
    "for i in num:\n",
    "    num_list.append(int(i))\n",
    "    sum=sum+ int(i)\n",
    "print(\"Sum of integers\",sum)\n",
    "print(num_list)\n",
    "    "
   ]
  },
  {
   "cell_type": "code",
   "execution_count": 3,
   "id": "1f350a88-dea5-4b65-8e14-f1486fb2b6a1",
   "metadata": {},
   "outputs": [],
   "source": [
    "#wap to accept 5 unique int from user,make sure if item is already present in list code displays the msg \"item already present\"and ask the user to reenter"
   ]
  },
  {
   "cell_type": "code",
   "execution_count": 4,
   "id": "a9be46f1-c680-4a99-8221-e901cca9d1f7",
   "metadata": {},
   "outputs": [
    {
     "name": "stdout",
     "output_type": "stream",
     "text": [
      "Enter your first Element\n"
     ]
    },
    {
     "name": "stdin",
     "output_type": "stream",
     "text": [
      "Enter one number:  2\n"
     ]
    },
    {
     "name": "stdout",
     "output_type": "stream",
     "text": [
      "Enter your 2 Element\n"
     ]
    },
    {
     "name": "stdin",
     "output_type": "stream",
     "text": [
      "Enter number:  4\n"
     ]
    },
    {
     "name": "stdout",
     "output_type": "stream",
     "text": [
      "Enter your 3 Element\n"
     ]
    },
    {
     "name": "stdin",
     "output_type": "stream",
     "text": [
      "Enter number:  6\n"
     ]
    },
    {
     "name": "stdout",
     "output_type": "stream",
     "text": [
      "Enter your 4 Element\n"
     ]
    },
    {
     "name": "stdin",
     "output_type": "stream",
     "text": [
      "Enter number:  7\n"
     ]
    },
    {
     "name": "stdout",
     "output_type": "stream",
     "text": [
      "Enter your 5 Element\n"
     ]
    },
    {
     "name": "stdin",
     "output_type": "stream",
     "text": [
      "Enter number:  8\n"
     ]
    },
    {
     "name": "stdout",
     "output_type": "stream",
     "text": [
      "[2, 4, 6, 7, 8]\n"
     ]
    }
   ],
   "source": [
    "print(\"Enter your first Element\")\n",
    "num= int(input(\"Enter one number: \"))\n",
    "num_list=[]\n",
    "num_list.append(num)\n",
    "for i in range(2,6):\n",
    "    print(\"Enter your {} Element\".format(i))\n",
    "    num= int(input(\"Enter number: \"))\n",
    "    if num in num_list:\n",
    "        print(\"Reenter the new number,duplicate exists\")\n",
    "        num= int(input(\"Enter Integers: \"))\n",
    "        num_list.append(num)\n",
    "    else: \n",
    "        num_list.append(num)\n",
    "print(num_list)"
   ]
  },
  {
   "cell_type": "code",
   "execution_count": 5,
   "id": "7cb3c14d-2099-4210-aa21-52ea62a9168a",
   "metadata": {},
   "outputs": [],
   "source": [
    "# wap to accept 2 lists from the user of 5 no each.Assume each list will have unique numbers.Find out how many items in list are common."
   ]
  },
  {
   "cell_type": "code",
   "execution_count": 6,
   "id": "f2257cda-2100-4c05-a81e-6fc2e89060e4",
   "metadata": {},
   "outputs": [
    {
     "name": "stdin",
     "output_type": "stream",
     "text": [
      "Enter one integer at a time for first list:  20\n",
      "Enter one integer at a time for second list:  3\n",
      "Enter one integer at a time for first list:  6\n",
      "Enter one integer at a time for second list:  6\n",
      "Enter one integer at a time for first list:  80\n",
      "Enter one integer at a time for second list:  80\n",
      "Enter one integer at a time for first list:  4\n",
      "Enter one integer at a time for second list:  5\n",
      "Enter one integer at a time for first list:  56\n",
      "Enter one integer at a time for second list:  67\n"
     ]
    },
    {
     "name": "stdout",
     "output_type": "stream",
     "text": [
      "Common Items are 2\n",
      "[20, 6, 80, 4, 56]\n",
      "[3, 6, 80, 5, 67]\n"
     ]
    }
   ],
   "source": [
    "#import random as rd\n",
    "#print(\"Enter your 5 Element\")\n",
    "#num= input(\"Enter Integers: \")\n",
    "#num_list=[]\n",
    "\n",
    "#for i in num:\n",
    "#    num_list.append(int(i))\n",
    "#    sum=sum+ int(i)\n",
    "#print(\"Sum of integers\",sum)\n",
    "#print(num_list)\n",
    "list_1=[]\n",
    "list_2=[]\n",
    "count =0\n",
    "for i in range(0,5):\n",
    "    num_list1= int(input(\"Enter one integer at a time for first list: \"))\n",
    "    num_list2= int(input(\"Enter one integer at a time for second list: \"))\n",
    "    list_1.append(num_list1)\n",
    "    list_2.append(num_list2)\n",
    "    if list_1[i]==list_2[i]:\n",
    "        count=count+1;\n",
    "print(\"Common Items are\",count)       \n",
    "print(list_1)\n",
    "print(list_2)\n"
   ]
  },
  {
   "cell_type": "code",
   "execution_count": 7,
   "id": "1c6de545-1ba1-4b73-81c6-087ffa120f9f",
   "metadata": {},
   "outputs": [],
   "source": [
    "# rewrite the previous code so that your code also display the item which are common in both the lists"
   ]
  },
  {
   "cell_type": "code",
   "execution_count": 8,
   "id": "1da1f96b-a249-475b-9db0-12169a567072",
   "metadata": {},
   "outputs": [
    {
     "name": "stdin",
     "output_type": "stream",
     "text": [
      "Enter one integer at a time for first list:  1\n",
      "Enter one integer at a time for second list:  1\n",
      "Enter one integer at a time for first list:  2\n",
      "Enter one integer at a time for second list:  20\n",
      "Enter one integer at a time for first list:  3\n",
      "Enter one integer at a time for second list:  3\n",
      "Enter one integer at a time for first list:  4\n",
      "Enter one integer at a time for second list:  4\n",
      "Enter one integer at a time for first list:  5\n",
      "Enter one integer at a time for second list:  50\n"
     ]
    },
    {
     "name": "stdout",
     "output_type": "stream",
     "text": [
      "[1, 2, 3, 4, 5]\n",
      "[1, 20, 3, 4, 50]\n",
      "Common Items are 3\n",
      "coomon elements of list are [1, 3, 4]\n"
     ]
    }
   ],
   "source": [
    "list_1=[]\n",
    "list_2=[]\n",
    "list_3=[]\n",
    "count =0\n",
    "for i in range(0,5):\n",
    "    num_list1= int(input(\"Enter one integer at a time for first list: \"))\n",
    "    num_list2= int(input(\"Enter one integer at a time for second list: \"))\n",
    "    list_1.append(num_list1)\n",
    "    list_2.append(num_list2)\n",
    "    if list_1[i] == list_2[i]:\n",
    "        count=count+1;\n",
    "        list_3.append(list_1[i]);\n",
    "      \n",
    "print(list_1)\n",
    "print(list_2)\n",
    "print(\"Common Items are\",count)\n",
    "print(\"coomon elements of list are\",list_3)"
   ]
  },
  {
   "cell_type": "code",
   "execution_count": null,
   "id": "d2188771-35c8-4870-8b24-590cd242a90e",
   "metadata": {},
   "outputs": [],
   "source": []
  }
 ],
 "metadata": {
  "kernelspec": {
   "display_name": "Python 3 (ipykernel)",
   "language": "python",
   "name": "python3"
  },
  "language_info": {
   "codemirror_mode": {
    "name": "ipython",
    "version": 3
   },
   "file_extension": ".py",
   "mimetype": "text/x-python",
   "name": "python",
   "nbconvert_exporter": "python",
   "pygments_lexer": "ipython3",
   "version": "3.10.6"
  }
 },
 "nbformat": 4,
 "nbformat_minor": 5
}
