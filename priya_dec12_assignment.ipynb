{
 "cells": [
  {
   "cell_type": "code",
   "execution_count": null,
   "id": "e8a61b69-113f-491a-9bea-d400c9d7cadb",
   "metadata": {},
   "outputs": [],
   "source": [
    "#WAP to accept an integer from the user and check whether it is an even or odd"
   ]
  },
  {
   "cell_type": "code",
   "execution_count": null,
   "id": "b444ea2b-9e52-438d-bdc3-3e6b3e5cdba0",
   "metadata": {},
   "outputs": [],
   "source": [
    "num=int(input(\"Enter Number\"))\n",
    "if num%2 == 0:\n",
    "    print(f\"Number {num} is Even\")\n",
    "else:\n",
    "    print(f\"Number {num} can be odd or prime\")"
   ]
  },
  {
   "cell_type": "code",
   "execution_count": null,
   "id": "3d166662-0693-4a9e-911f-0143346f67df",
   "metadata": {},
   "outputs": [],
   "source": [
    "#WAP to accept a character from the user and check whether it is a capital letter or small letter. Assume user will input only alphabets\n"
   ]
  },
  {
   "cell_type": "code",
   "execution_count": null,
   "id": "4a0352fd-6403-4cfa-bc23-98d175876de5",
   "metadata": {},
   "outputs": [],
   "source": [
    "char=input(\"Enter Alphabet\")\n",
    "if char.isupper():\n",
    "    print(f\"string {char} is Capital Letter\")\n",
    "else:\n",
    "    print(f\"string {char} is Lower Case Letter\")"
   ]
  },
  {
   "cell_type": "code",
   "execution_count": null,
   "id": "a01ddbe2-7a2a-429b-8fe6-21c07259d840",
   "metadata": {},
   "outputs": [],
   "source": [
    "#WAP to accept a character from the user and check whether it is a capital letter or small letter or a digit or some special symbol\n",
    "\n"
   ]
  },
  {
   "cell_type": "code",
   "execution_count": null,
   "id": "948635d8-4301-4213-860d-43e4992c625a",
   "metadata": {},
   "outputs": [],
   "source": [
    "char=input(\"Enter Alphabet\")\n",
    "if char.isupper():\n",
    "    print(f\"string {char} is Capital Letter\")\n",
    "elif char.islower():\n",
    "    print(f\"string {char} is Lower Case Letter\")\n",
    "elif char.isdigit():    \n",
    "    print(f\"string {char} is a digit\")\n",
    "else:    \n",
    "    print(f\"string {char} is a special charater\")"
   ]
  },
  {
   "cell_type": "code",
   "execution_count": null,
   "id": "30e9ccc2-1a1a-465a-8c7b-37e30b99812c",
   "metadata": {},
   "outputs": [],
   "source": [
    "##WAP to accept 3 integers from the user and without using any logical operator and cascading of relational operators , find out the greatest number amongst them"
   ]
  },
  {
   "cell_type": "code",
   "execution_count": null,
   "id": "2035ff3b-274c-4961-b60f-9e234e5f80fa",
   "metadata": {},
   "outputs": [],
   "source": [
    "num1=int(input(\"Enter first Number\"))\n",
    "num2=int(input(\"Enter second Number\"))\n",
    "num3=int(input(\"Enter third Number\"))\n",
    "if num1>num2:\n",
    "    if num1>num3:\n",
    "        print(f\"Number {num1} is greatest\")\n",
    "elif num2>num3:\n",
    "    print(f\"Number {num2} is greatest\")\n",
    "else:\n",
    "    print(f\"Number {num3} is greatest\")\n",
    "        "
   ]
  },
  {
   "cell_type": "markdown",
   "id": "28c24e1f-4b9e-4335-bf21-5ecee742ecc2",
   "metadata": {},
   "source": [
    "WAP to accept a year from the user and check whether it is a leap year or not.\n",
    "An year is a leap year if:\n",
    "It is exactly divisible by 4 and at the same time not\n",
    "divisible by 100\n",
    "OR\n",
    "It is divisible by 400\n"
   ]
  },
  {
   "cell_type": "code",
   "execution_count": null,
   "id": "ba9c814d-1834-4a43-83ad-a2dbc575b744",
   "metadata": {},
   "outputs": [],
   "source": [
    "year=int(input(\"Enter Year\"))\n",
    "if (year%4==0 and year%100 != 0)or (year%400 == 0):\n",
    "    print(f\"Year {year} is leap year\")\n",
    "else:\n",
    "    print(f\"Year {year} is not a leap year\")"
   ]
  },
  {
   "cell_type": "code",
   "execution_count": null,
   "id": "62256041-0f55-407a-a1ea-78c127754cbd",
   "metadata": {},
   "outputs": [],
   "source": []
  },
  {
   "cell_type": "code",
   "execution_count": null,
   "id": "da289d86-b2ff-4e6e-aa44-10caa1df8e49",
   "metadata": {},
   "outputs": [],
   "source": []
  }
 ],
 "metadata": {
  "kernelspec": {
   "display_name": "Python 3 (ipykernel)",
   "language": "python",
   "name": "python3"
  },
  "language_info": {
   "codemirror_mode": {
    "name": "ipython",
    "version": 3
   },
   "file_extension": ".py",
   "mimetype": "text/x-python",
   "name": "python",
   "nbconvert_exporter": "python",
   "pygments_lexer": "ipython3",
   "version": "3.10.6"
  }
 },
 "nbformat": 4,
 "nbformat_minor": 5
}
