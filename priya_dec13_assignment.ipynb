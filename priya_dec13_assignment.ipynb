{
 "cells": [
  {
   "cell_type": "code",
   "execution_count": 1,
   "id": "cf8161c1-5f5c-4ed3-b123-1098ba0a9c2c",
   "metadata": {},
   "outputs": [],
   "source": [
    "#WAP to accept two numbers from the user and display their sum"
   ]
  },
  {
   "cell_type": "code",
   "execution_count": null,
   "id": "a57ff8ab-937f-4dee-905f-7a35859e97da",
   "metadata": {},
   "outputs": [],
   "source": [
    "number1,number2 = (input(\"Enter  Numbers\")).split(\",\")"
   ]
  },
  {
   "cell_type": "code",
   "execution_count": null,
   "id": "fa8bd06a-efa0-45ac-87d7-b6294c73fd11",
   "metadata": {},
   "outputs": [],
   "source": [
    "number1=int(number1)\n",
    "number2=int(number2)"
   ]
  },
  {
   "cell_type": "code",
   "execution_count": null,
   "id": "a13b65c8-f74f-49d4-bf6e-bd60068c0320",
   "metadata": {},
   "outputs": [],
   "source": [
    "sum= number1+number2"
   ]
  },
  {
   "cell_type": "code",
   "execution_count": null,
   "id": "1c643f7a-6bcc-4215-96ad-1f3e0fdc3dae",
   "metadata": {},
   "outputs": [],
   "source": [
    "print(f\"Sum of two numbers is {sum}\")"
   ]
  },
  {
   "cell_type": "code",
   "execution_count": null,
   "id": "d8a81070-84c3-4987-9ccf-1e9cdb91cc13",
   "metadata": {},
   "outputs": [],
   "source": [
    "# WAP to accept radius of a Circle from the user and calculate area and circumference\n",
    "from math import pi"
   ]
  },
  {
   "cell_type": "code",
   "execution_count": null,
   "id": "34c139a4-fcd7-44f0-98ad-3532f7ab0b6a",
   "metadata": {},
   "outputs": [],
   "source": [
    "Radius = float(input(\"Enter Radius\"))"
   ]
  },
  {
   "cell_type": "code",
   "execution_count": null,
   "id": "1eb15238-a97a-405b-82de-0ac0c03b7cdc",
   "metadata": {},
   "outputs": [],
   "source": [
    "area= pi*Radius**2\n",
    "Circumference = 2*pi*Radius"
   ]
  },
  {
   "cell_type": "code",
   "execution_count": null,
   "id": "01c9fcf3-38be-404a-97ef-e803a5e233f3",
   "metadata": {},
   "outputs": [],
   "source": [
    "print(f\"Area of circle is {area}\")\n",
    "print(f\"Circumference of circle is {Circumference}\")"
   ]
  },
  {
   "cell_type": "code",
   "execution_count": null,
   "id": "a275a03a-fb5c-4403-95ae-717607e76e11",
   "metadata": {},
   "outputs": [],
   "source": [
    "#WAP to accept roll number , grade and percentage as input from the user and display it back"
   ]
  },
  {
   "cell_type": "code",
   "execution_count": null,
   "id": "946f95dd-91c7-487d-ba4c-13e7e4f14ada",
   "metadata": {},
   "outputs": [],
   "source": [
    "rollno=int(input(\"Enter Rollno\"))\n",
    "grade= input(\"Enter grade\")\n",
    "percentage= input(\"Enter percentage\")"
   ]
  },
  {
   "cell_type": "code",
   "execution_count": null,
   "id": "ade0fbc6-eb5c-4554-b2b7-282179ace13e",
   "metadata": {},
   "outputs": [],
   "source": [
    "print(\"Rollno is {0}, grade is {1}, percentage is {2}\".format(rollno,grade,percentage))"
   ]
  },
  {
   "cell_type": "code",
   "execution_count": null,
   "id": "3cc3dc71-bca8-4a24-aead-b1e069b4c47f",
   "metadata": {},
   "outputs": [],
   "source": [
    "## Write a program that asks the user to enter his/her name and age. Print out a message , displaying the user’s name along with the year in which they will turn 100 years old."
   ]
  },
  {
   "cell_type": "code",
   "execution_count": null,
   "id": "1cc93c11-f3f8-4ea3-a940-7c4dbeb35f2e",
   "metadata": {},
   "outputs": [],
   "source": [
    "from datetime import date\n",
    "name=input(\"Enter Name\")\n",
    "age= int(input(\"Enter age\"))\n",
    "age_diff= 100-age\n",
    "golden_age= date.today().year + age_diff\n",
    "print(f\"Name of person is {name} and 100th birthday is in year {golden_age} \")"
   ]
  },
  {
   "cell_type": "code",
   "execution_count": null,
   "id": "ab01b677-c2fd-4701-a4b0-39e4e151ad39",
   "metadata": {},
   "outputs": [],
   "source": [
    "#Write a program that asks the user to input 2 integers and adds them . Accept both the numbers in a single line only"
   ]
  },
  {
   "cell_type": "code",
   "execution_count": null,
   "id": "3b205a3f-8d3d-434a-b06e-f997d7a7edf4",
   "metadata": {},
   "outputs": [],
   "source": [
    "number1,number2 = (input(\"Enter  Numbers\")).split(\",\")\n"
   ]
  },
  {
   "cell_type": "code",
   "execution_count": null,
   "id": "bd766b3b-26b6-4753-acdf-6922621c205f",
   "metadata": {},
   "outputs": [],
   "source": [
    "number1=int(number1)\n",
    "number2=int(number2)\n",
    "sum= number1+number2\n",
    "print(f\"Sum of two numbers is {sum}\")"
   ]
  },
  {
   "cell_type": "code",
   "execution_count": null,
   "id": "f2cc91bc-4162-4551-af26-e111454ecd74",
   "metadata": {},
   "outputs": [],
   "source": [
    "#Write a Python program which accepts the user's first and last name and print them in reverse order with a space between them."
   ]
  },
  {
   "cell_type": "code",
   "execution_count": null,
   "id": "328d588c-d8bd-4d13-8bfd-3a0b8828a636",
   "metadata": {},
   "outputs": [],
   "source": [
    "first_name=input(\"Enter First Name\")\n",
    "last_name=input(\"Enter Last Name\")\n",
    "full_name= first_name +\" \" +last_name\n",
    "rev_name= full_name[-1::-1]\n",
    "print(f\"rev_name is {rev_name}\")\n"
   ]
  },
  {
   "cell_type": "code",
   "execution_count": null,
   "id": "bd2e8549-ef62-4c3a-a1c8-1ca3aae63adb",
   "metadata": {},
   "outputs": [],
   "source": []
  }
 ],
 "metadata": {
  "kernelspec": {
   "display_name": "Python 3 (ipykernel)",
   "language": "python",
   "name": "python3"
  },
  "language_info": {
   "codemirror_mode": {
    "name": "ipython",
    "version": 3
   },
   "file_extension": ".py",
   "mimetype": "text/x-python",
   "name": "python",
   "nbconvert_exporter": "python",
   "pygments_lexer": "ipython3",
   "version": "3.10.6"
  }
 },
 "nbformat": 4,
 "nbformat_minor": 5
}
